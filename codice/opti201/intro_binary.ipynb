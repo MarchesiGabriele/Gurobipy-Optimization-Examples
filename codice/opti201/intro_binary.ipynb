{
 "cells": [
  {
   "cell_type": "code",
   "execution_count": 58,
   "metadata": {},
   "outputs": [],
   "source": [
    "import gurobipy as gp\n",
    "import pandas as pd\n",
    "from gurobipy import GRB\n",
    "\n",
    "\n",
    "# DATA SETUP\n",
    "path = 'https://raw.githubusercontent.com/Gurobi/modeling-examples/master/optimization101/Modeling_Session_1/'\n",
    "transp_cost = pd.read_csv(path + 'cost.csv')\n",
    "# get production and distribution locations from data frame\n",
    "production = list(transp_cost['production'].unique())\n",
    "distribution = list(transp_cost['distribution'].unique())\n",
    "transp_cost = transp_cost.set_index(['production','distribution']).squeeze()\n",
    "\n",
    "max_prod = pd.Series([180,200,140,80,180], index = production, name = \"max_production\")\n",
    "n_demand = pd.Series([89,95,121,101,116,181], index = distribution, name = \"demand\")\n",
    "# the min prodcution is a fraction of the max\n",
    "frac = 0.75\n"
   ]
  },
  {
   "cell_type": "code",
   "execution_count": 59,
   "metadata": {},
   "outputs": [],
   "source": [
    "# MODEL\n",
    "m = gp.Model(\"transportation\")\n",
    "x = m.addVars(production, distribution, name = \"prod_ship\")\n",
    "\n",
    "can_produce = m.addConstrs((gp.quicksum(x[p,d] for d in distribution) <= max_prod[p] for p in production), name = \"can_produce\")\n",
    "must_produce = m.addConstrs((gp.quicksum(x[p,d] for d in distribution) >= frac*max_prod[p] for p in production), name = \"must_produce\")\n",
    "meet_demand = m.addConstrs((x.sum('*', d) >= n_demand[d] for d in distribution), name = \"meet_demand\")\n",
    "\n",
    "m.setObjective(gp.quicksum(transp_cost[p,d]*x[p,d] for p in production for d in distribution), GRB.MINIMIZE)"
   ]
  },
  {
   "cell_type": "code",
   "execution_count": null,
   "metadata": {},
   "outputs": [],
   "source": [
    "m.optimize()\n",
    "x_values = pd.Series(m.getAttr(\"X\", x), name='shipment', index=transp_cost.index)\n",
    "sol = pd.concat([transp_cost, x_values], axis=1)\n",
    "obj = m.getObjective().getValue()\n",
    "\n",
    "print(f\"Optimal solution: {obj}\")\n",
    "sol[sol.shipment > 0]"
   ]
  },
  {
   "cell_type": "code",
   "execution_count": 61,
   "metadata": {},
   "outputs": [],
   "source": [
    "# MODEL 2\n",
    "M = max_prod# max production\n",
    "C = 30 # min ship\n",
    "\n",
    "m = gp.Model(\"transportation1\")\n",
    "x = m.addVars(production, distribution, name = \"prod_ship\")\n",
    "z = m.addVars(production, distribution, vtype=GRB.BINARY, name='ship_active')\n",
    "\n",
    "can_produce = m.addConstrs((gp.quicksum(x[p,d] for d in distribution) <= max_prod[p] for p in production), name = \"can_produce\")\n",
    "must_produce = m.addConstrs((gp.quicksum(x[p,d] for d in distribution) >= frac*max_prod[p] for p in production), name = \"must_produce\")\n",
    "meet_demand = m.addConstrs((x.sum('*', d) >= n_demand[d] for d in distribution), name = \"meet_demand\")\n",
    "# x <= 0 or x >= c  \n",
    "# z1 or z2\n",
    "# z1 -> x <= M*z1\n",
    "# z2 -> x + M*z2 >= c  \n",
    "# z1+z2 >= 1\n",
    "# z1+z2 = 1 -> z1 = 1 - z2\n",
    "# a --> x <= M*(1-z)\n",
    "# b --> x + M*z >= c\n",
    "min_ship_a = m.addConstrs((x[p,d] <= M[p]*(1-z[p,d]) for p in production for d in distribution), name='min_ship_a')\n",
    "min_ship_b = m.addConstrs((x[p,d] + M[p]*z[p,d] >= C for p in production for d in distribution), name='min_ship_b')\n",
    "\n",
    "m.setObjective(gp.quicksum(transp_cost[p,d]*x[p,d] for p in production for d in distribution), GRB.MINIMIZE)\n",
    "\n",
    " "
   ]
  },
  {
   "cell_type": "code",
   "execution_count": null,
   "metadata": {},
   "outputs": [],
   "source": [
    "\n",
    "m.optimize()\n",
    "x_values = pd.Series(m.getAttr(\"X\", x), name='shipment', index=transp_cost.index)\n",
    "sol = pd.concat([transp_cost, x_values], axis=1)\n",
    "obj = m.getObjective().getValue()\n",
    "\n",
    "print(f\"Optimal solution: {obj}\")\n",
    "sol[sol.shipment > 0]"
   ]
  },
  {
   "cell_type": "code",
   "execution_count": null,
   "metadata": {},
   "outputs": [],
   "source": [
    "###################################\n",
    "## USANDO GLI INDICATOR CONSTRAINTS\n",
    "###################################\n",
    "m.addConstrs(((z[p,d] == 1) >> (x[p,d] >= C) for p in production for d in distribution), name='')\n",
    "m.addConstrs(((z[p,d] == 0) >> (x[p,d] <= 0) for p in production for d in distribution), name='')"
   ]
  },
  {
   "cell_type": "code",
   "execution_count": 64,
   "metadata": {},
   "outputs": [],
   "source": [
    "###################################\n",
    "## SEMI CONTINUOUS DECISION VARIABLE \n",
    "###################################\n",
    "x = m.addVars(production, distribution, vtype=GRB.SEMICONT, lb=C, name='prod_ship')\n"
   ]
  },
  {
   "cell_type": "code",
   "execution_count": 65,
   "metadata": {},
   "outputs": [],
   "source": [
    "# ESEMPIO DUE - LIMITAZIONE FACILITIES"
   ]
  },
  {
   "cell_type": "code",
   "execution_count": null,
   "metadata": {},
   "outputs": [],
   "source": [
    "import gurobipy as gp\n",
    "import pandas as pd\n",
    "from gurobipy import GRB\n",
    "\n",
    "\n",
    "# DATA SETUP\n",
    "path = 'https://raw.githubusercontent.com/Gurobi/modeling-examples/master/optimization101/Modeling_Session_1/'\n",
    "transp_cost = pd.read_csv(path + 'cost.csv')\n",
    "# get production and distribution locations from data frame\n",
    "production = list(transp_cost['production'].unique())\n",
    "distribution = list(transp_cost['distribution'].unique())\n",
    "transp_cost = transp_cost.set_index(['production','distribution']).squeeze()\n",
    "\n",
    "max_prod = pd.Series([180,200,140,80,180], index = production, name = \"max_production\")\n",
    "n_demand = pd.Series([89,95,121,101,116,181], index = distribution, name = \"demand\")\n",
    "# the min prodcution is a fraction of the max\n",
    "frac = 0.75\n",
    "\n",
    "max_prod2 = pd.Series([210,225,140,130,220], index = production, name = \"max_production\")\n",
    "\n",
    "m = gp.Model(\"transportation\")\n",
    "x = m.addVars(production, distribution, name = \"prod_ship\")\n",
    "\n",
    "can_produce = m.addConstrs((gp.quicksum(x[p,d] for d in distribution) <= max_prod2[p] for p in production), name = \"can_produce\")\n",
    "meet_demand = m.addConstrs((x.sum('*', d) >= n_demand[d] for d in distribution), name = \"meet_demand\")\n",
    "\n",
    "m.setObjective(gp.quicksum(transp_cost[p,d]*x[p,d] for p in production for d in distribution), GRB.MINIMIZE)\n",
    "\n",
    "m.optimize()\n",
    "x_values = pd.Series(m.getAttr('X', x), name = \"shipment\", index = transp_cost.index)\n",
    "sol2 = pd.concat([transp_cost, x_values], axis=1)\n",
    "sol2[sol2.shipment > 0]"
   ]
  },
  {
   "cell_type": "code",
   "execution_count": null,
   "metadata": {},
   "outputs": [],
   "source": [
    "y = m.addVars(production, vtype=GRB.BINARY, name='activation') # indico se fabbrica è attiva o meno\n",
    "\n",
    "# if sum(x[p,d]) <= 0 -> y[p] = 0\n",
    "#  sum(x[p,d] for d in distribution) <= y[p]*M \n",
    "m.addConstrs((x.sum(p, '*') <= y[p]*max_prod2[p] for p in production), name='pp')\n"
   ]
  },
  {
   "cell_type": "code",
   "execution_count": null,
   "metadata": {},
   "outputs": [],
   "source": [
    "# se una fabbrica a cherleston è aperta allora quella a cleveland e baltimore sono chiuse\n",
    "reg_cond = m.addConstr((y['Cleveland']+y['Baltimore'] <=  (1-y['Charleston'])*2), name='pp')\n",
    "m.update()\n",
    "m.optimize()"
   ]
  },
  {
   "cell_type": "code",
   "execution_count": null,
   "metadata": {},
   "outputs": [],
   "source": [
    "x_values = pd.Series(m.getAttr('x', x), name = \"shipment\", index = transp_cost.index)\n",
    "sol2 = pd.concat([transp_cost, x_values], axis=1)\n",
    "sol2[sol2.shipment > 0]"
   ]
  },
  {
   "cell_type": "code",
   "execution_count": null,
   "metadata": {},
   "outputs": [],
   "source": []
  }
 ],
 "metadata": {
  "kernelspec": {
   "display_name": "Gurobipy-Optimization-Examples",
   "language": "python",
   "name": "python3"
  },
  "language_info": {
   "codemirror_mode": {
    "name": "ipython",
    "version": 3
   },
   "file_extension": ".py",
   "mimetype": "text/x-python",
   "name": "python",
   "nbconvert_exporter": "python",
   "pygments_lexer": "ipython3",
   "version": "3.13.2"
  }
 },
 "nbformat": 4,
 "nbformat_minor": 2
}
